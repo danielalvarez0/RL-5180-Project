{
 "cells": [
  {
   "metadata": {
    "ExecuteTime": {
     "end_time": "2024-11-30T12:47:39.896831Z",
     "start_time": "2024-11-30T04:44:44.515011Z"
    }
   },
   "cell_type": "code",
   "outputs": [
    {
     "name": "stderr",
     "output_type": "stream",
     "text": [
      "Training Progress:   0%|          | 1/500 [03:11<26:34:36, 191.74s/it]"
     ]
    },
    {
     "name": "stdout",
     "output_type": "stream",
     "text": [
      "Iteration 0\n",
      "Average Return: 0.09\n",
      "Average Cost: 0.12\n"
     ]
    },
    {
     "name": "stderr",
     "output_type": "stream",
     "text": [
      "Training Progress:   2%|▏         | 11/500 [18:05<12:04:59, 88.96s/it]"
     ]
    },
    {
     "name": "stdout",
     "output_type": "stream",
     "text": [
      "Iteration 10\n",
      "Average Return: -0.12\n",
      "Average Cost: 0.09\n"
     ]
    },
    {
     "name": "stderr",
     "output_type": "stream",
     "text": [
      "Training Progress:   4%|▍         | 21/500 [30:07<8:12:19, 61.67s/it] "
     ]
    },
    {
     "name": "stdout",
     "output_type": "stream",
     "text": [
      "Iteration 20\n",
      "Average Return: -0.04\n",
      "Average Cost: 0.10\n"
     ]
    },
    {
     "name": "stderr",
     "output_type": "stream",
     "text": [
      "Training Progress:   6%|▌         | 31/500 [39:33<7:23:15, 56.71s/it]"
     ]
    },
    {
     "name": "stdout",
     "output_type": "stream",
     "text": [
      "Iteration 30\n",
      "Average Return: 0.01\n",
      "Average Cost: 0.18\n"
     ]
    },
    {
     "name": "stderr",
     "output_type": "stream",
     "text": [
      "Training Progress:   8%|▊         | 41/500 [49:00<7:15:27, 56.92s/it]"
     ]
    },
    {
     "name": "stdout",
     "output_type": "stream",
     "text": [
      "Iteration 40\n",
      "Average Return: 0.04\n",
      "Average Cost: 0.17\n"
     ]
    },
    {
     "name": "stderr",
     "output_type": "stream",
     "text": [
      "Training Progress:  10%|█         | 51/500 [58:24<7:00:24, 56.18s/it]"
     ]
    },
    {
     "name": "stdout",
     "output_type": "stream",
     "text": [
      "Iteration 50\n",
      "Average Return: 0.08\n",
      "Average Cost: 0.16\n"
     ]
    },
    {
     "name": "stderr",
     "output_type": "stream",
     "text": [
      "Training Progress:  12%|█▏        | 61/500 [1:07:51<6:54:33, 56.66s/it]"
     ]
    },
    {
     "name": "stdout",
     "output_type": "stream",
     "text": [
      "Iteration 60\n",
      "Average Return: 0.06\n",
      "Average Cost: 0.10\n"
     ]
    },
    {
     "name": "stderr",
     "output_type": "stream",
     "text": [
      "Training Progress:  14%|█▍        | 71/500 [1:17:18<6:45:47, 56.75s/it]"
     ]
    },
    {
     "name": "stdout",
     "output_type": "stream",
     "text": [
      "Iteration 70\n",
      "Average Return: 0.14\n",
      "Average Cost: 0.07\n"
     ]
    },
    {
     "name": "stderr",
     "output_type": "stream",
     "text": [
      "Training Progress:  16%|█▌        | 81/500 [1:26:43<6:36:05, 56.72s/it]"
     ]
    },
    {
     "name": "stdout",
     "output_type": "stream",
     "text": [
      "Iteration 80\n",
      "Average Return: 0.16\n",
      "Average Cost: 0.13\n"
     ]
    },
    {
     "name": "stderr",
     "output_type": "stream",
     "text": [
      "Training Progress:  18%|█▊        | 91/500 [1:36:07<6:23:31, 56.26s/it]"
     ]
    },
    {
     "name": "stdout",
     "output_type": "stream",
     "text": [
      "Iteration 90\n",
      "Average Return: 0.14\n",
      "Average Cost: 0.25\n"
     ]
    },
    {
     "name": "stderr",
     "output_type": "stream",
     "text": [
      "Training Progress:  20%|██        | 101/500 [1:45:34<6:16:35, 56.63s/it]"
     ]
    },
    {
     "name": "stdout",
     "output_type": "stream",
     "text": [
      "Iteration 100\n",
      "Average Return: 0.16\n",
      "Average Cost: 0.30\n"
     ]
    },
    {
     "name": "stderr",
     "output_type": "stream",
     "text": [
      "Training Progress:  22%|██▏       | 111/500 [1:55:02<6:07:55, 56.75s/it]"
     ]
    },
    {
     "name": "stdout",
     "output_type": "stream",
     "text": [
      "Iteration 110\n",
      "Average Return: 0.08\n",
      "Average Cost: 0.07\n"
     ]
    },
    {
     "name": "stderr",
     "output_type": "stream",
     "text": [
      "Training Progress:  24%|██▍       | 121/500 [2:04:28<5:58:33, 56.76s/it]"
     ]
    },
    {
     "name": "stdout",
     "output_type": "stream",
     "text": [
      "Iteration 120\n",
      "Average Return: 0.13\n",
      "Average Cost: 0.10\n"
     ]
    },
    {
     "name": "stderr",
     "output_type": "stream",
     "text": [
      "Training Progress:  26%|██▌       | 131/500 [2:13:54<5:47:32, 56.51s/it]"
     ]
    },
    {
     "name": "stdout",
     "output_type": "stream",
     "text": [
      "Iteration 130\n",
      "Average Return: 0.16\n",
      "Average Cost: 0.14\n"
     ]
    },
    {
     "name": "stderr",
     "output_type": "stream",
     "text": [
      "Training Progress:  28%|██▊       | 141/500 [2:23:19<5:36:44, 56.28s/it]"
     ]
    },
    {
     "name": "stdout",
     "output_type": "stream",
     "text": [
      "Iteration 140\n",
      "Average Return: 0.10\n",
      "Average Cost: 0.11\n"
     ]
    },
    {
     "name": "stderr",
     "output_type": "stream",
     "text": [
      "Training Progress:  30%|███       | 151/500 [2:32:46<5:28:53, 56.54s/it]"
     ]
    },
    {
     "name": "stdout",
     "output_type": "stream",
     "text": [
      "Iteration 150\n",
      "Average Return: 0.15\n",
      "Average Cost: 0.29\n"
     ]
    },
    {
     "name": "stderr",
     "output_type": "stream",
     "text": [
      "Training Progress:  32%|███▏      | 161/500 [2:42:12<5:20:38, 56.75s/it]"
     ]
    },
    {
     "name": "stdout",
     "output_type": "stream",
     "text": [
      "Iteration 160\n",
      "Average Return: 0.10\n",
      "Average Cost: 0.12\n"
     ]
    },
    {
     "name": "stderr",
     "output_type": "stream",
     "text": [
      "Training Progress:  34%|███▍      | 171/500 [2:51:36<5:09:05, 56.37s/it]"
     ]
    },
    {
     "name": "stdout",
     "output_type": "stream",
     "text": [
      "Iteration 170\n",
      "Average Return: 0.15\n",
      "Average Cost: 0.11\n"
     ]
    },
    {
     "name": "stderr",
     "output_type": "stream",
     "text": [
      "Training Progress:  36%|███▌      | 181/500 [3:01:04<5:03:25, 57.07s/it]"
     ]
    },
    {
     "name": "stdout",
     "output_type": "stream",
     "text": [
      "Iteration 180\n",
      "Average Return: 0.13\n",
      "Average Cost: 0.23\n"
     ]
    },
    {
     "name": "stderr",
     "output_type": "stream",
     "text": [
      "Training Progress:  38%|███▊      | 191/500 [3:10:29<4:51:58, 56.69s/it]"
     ]
    },
    {
     "name": "stdout",
     "output_type": "stream",
     "text": [
      "Iteration 190\n",
      "Average Return: 0.17\n",
      "Average Cost: 0.11\n"
     ]
    },
    {
     "name": "stderr",
     "output_type": "stream",
     "text": [
      "Training Progress:  40%|████      | 201/500 [3:19:55<4:40:18, 56.25s/it]"
     ]
    },
    {
     "name": "stdout",
     "output_type": "stream",
     "text": [
      "Iteration 200\n",
      "Average Return: 0.22\n",
      "Average Cost: 0.14\n"
     ]
    },
    {
     "name": "stderr",
     "output_type": "stream",
     "text": [
      "Training Progress:  42%|████▏     | 211/500 [3:29:21<4:32:52, 56.65s/it]"
     ]
    },
    {
     "name": "stdout",
     "output_type": "stream",
     "text": [
      "Iteration 210\n",
      "Average Return: 0.16\n",
      "Average Cost: 0.08\n"
     ]
    },
    {
     "name": "stderr",
     "output_type": "stream",
     "text": [
      "Training Progress:  44%|████▍     | 221/500 [3:38:46<4:22:52, 56.53s/it]"
     ]
    },
    {
     "name": "stdout",
     "output_type": "stream",
     "text": [
      "Iteration 220\n",
      "Average Return: 0.06\n",
      "Average Cost: 0.10\n"
     ]
    },
    {
     "name": "stderr",
     "output_type": "stream",
     "text": [
      "Training Progress:  46%|████▌     | 231/500 [3:48:09<4:12:15, 56.26s/it]"
     ]
    },
    {
     "name": "stdout",
     "output_type": "stream",
     "text": [
      "Iteration 230\n",
      "Average Return: 0.08\n",
      "Average Cost: 0.15\n"
     ]
    },
    {
     "name": "stderr",
     "output_type": "stream",
     "text": [
      "Training Progress:  48%|████▊     | 241/500 [3:57:42<4:07:31, 57.34s/it]"
     ]
    },
    {
     "name": "stdout",
     "output_type": "stream",
     "text": [
      "Iteration 240\n",
      "Average Return: 0.12\n",
      "Average Cost: 0.08\n"
     ]
    },
    {
     "name": "stderr",
     "output_type": "stream",
     "text": [
      "Training Progress:  50%|█████     | 251/500 [4:07:12<3:56:14, 56.93s/it]"
     ]
    },
    {
     "name": "stdout",
     "output_type": "stream",
     "text": [
      "Iteration 250\n",
      "Average Return: 0.20\n",
      "Average Cost: 0.21\n"
     ]
    },
    {
     "name": "stderr",
     "output_type": "stream",
     "text": [
      "Training Progress:  52%|█████▏    | 261/500 [4:16:39<3:45:53, 56.71s/it]"
     ]
    },
    {
     "name": "stdout",
     "output_type": "stream",
     "text": [
      "Iteration 260\n",
      "Average Return: 0.10\n",
      "Average Cost: 0.11\n"
     ]
    },
    {
     "name": "stderr",
     "output_type": "stream",
     "text": [
      "Training Progress:  54%|█████▍    | 271/500 [4:26:11<3:37:50, 57.08s/it]"
     ]
    },
    {
     "name": "stdout",
     "output_type": "stream",
     "text": [
      "Iteration 270\n",
      "Average Return: 0.17\n",
      "Average Cost: 0.22\n"
     ]
    },
    {
     "name": "stderr",
     "output_type": "stream",
     "text": [
      "Training Progress:  56%|█████▌    | 281/500 [4:35:40<3:27:10, 56.76s/it]"
     ]
    },
    {
     "name": "stdout",
     "output_type": "stream",
     "text": [
      "Iteration 280\n",
      "Average Return: 0.22\n",
      "Average Cost: 0.16\n"
     ]
    },
    {
     "name": "stderr",
     "output_type": "stream",
     "text": [
      "Training Progress:  58%|█████▊    | 291/500 [4:45:09<3:19:20, 57.23s/it]"
     ]
    },
    {
     "name": "stdout",
     "output_type": "stream",
     "text": [
      "Iteration 290\n",
      "Average Return: 0.20\n",
      "Average Cost: 0.17\n"
     ]
    },
    {
     "name": "stderr",
     "output_type": "stream",
     "text": [
      "Training Progress:  60%|██████    | 301/500 [4:54:37<3:08:18, 56.78s/it]"
     ]
    },
    {
     "name": "stdout",
     "output_type": "stream",
     "text": [
      "Iteration 300\n",
      "Average Return: 0.18\n",
      "Average Cost: 0.14\n"
     ]
    },
    {
     "name": "stderr",
     "output_type": "stream",
     "text": [
      "Training Progress:  62%|██████▏   | 311/500 [5:04:02<2:57:44, 56.43s/it]"
     ]
    },
    {
     "name": "stdout",
     "output_type": "stream",
     "text": [
      "Iteration 310\n",
      "Average Return: 0.06\n",
      "Average Cost: 0.16\n"
     ]
    },
    {
     "name": "stderr",
     "output_type": "stream",
     "text": [
      "Training Progress:  64%|██████▍   | 321/500 [5:13:31<2:50:10, 57.04s/it]"
     ]
    },
    {
     "name": "stdout",
     "output_type": "stream",
     "text": [
      "Iteration 320\n",
      "Average Return: 0.04\n",
      "Average Cost: 0.13\n"
     ]
    },
    {
     "name": "stderr",
     "output_type": "stream",
     "text": [
      "Training Progress:  66%|██████▌   | 331/500 [5:22:58<2:39:02, 56.46s/it]"
     ]
    },
    {
     "name": "stdout",
     "output_type": "stream",
     "text": [
      "Iteration 330\n",
      "Average Return: 0.21\n",
      "Average Cost: 0.17\n"
     ]
    },
    {
     "name": "stderr",
     "output_type": "stream",
     "text": [
      "Training Progress:  68%|██████▊   | 341/500 [5:32:25<2:29:30, 56.42s/it]"
     ]
    },
    {
     "name": "stdout",
     "output_type": "stream",
     "text": [
      "Iteration 340\n",
      "Average Return: 0.18\n",
      "Average Cost: 0.22\n"
     ]
    },
    {
     "name": "stderr",
     "output_type": "stream",
     "text": [
      "Training Progress:  70%|███████   | 351/500 [5:41:56<2:21:23, 56.94s/it]"
     ]
    },
    {
     "name": "stdout",
     "output_type": "stream",
     "text": [
      "Iteration 350\n",
      "Average Return: 0.05\n",
      "Average Cost: 0.27\n"
     ]
    },
    {
     "name": "stderr",
     "output_type": "stream",
     "text": [
      "Training Progress:  72%|███████▏  | 361/500 [5:51:28<2:12:25, 57.16s/it]"
     ]
    },
    {
     "name": "stdout",
     "output_type": "stream",
     "text": [
      "Iteration 360\n",
      "Average Return: 0.14\n",
      "Average Cost: 0.08\n"
     ]
    },
    {
     "name": "stderr",
     "output_type": "stream",
     "text": [
      "Training Progress:  74%|███████▍  | 371/500 [6:01:02<2:03:25, 57.41s/it]"
     ]
    },
    {
     "name": "stdout",
     "output_type": "stream",
     "text": [
      "Iteration 370\n",
      "Average Return: 0.24\n",
      "Average Cost: 0.22\n"
     ]
    },
    {
     "name": "stderr",
     "output_type": "stream",
     "text": [
      "Training Progress:  76%|███████▌  | 381/500 [6:10:34<1:53:02, 57.00s/it]"
     ]
    },
    {
     "name": "stdout",
     "output_type": "stream",
     "text": [
      "Iteration 380\n",
      "Average Return: 0.24\n",
      "Average Cost: 0.13\n"
     ]
    },
    {
     "name": "stderr",
     "output_type": "stream",
     "text": [
      "Training Progress:  78%|███████▊  | 391/500 [6:20:03<1:43:25, 56.93s/it]"
     ]
    },
    {
     "name": "stdout",
     "output_type": "stream",
     "text": [
      "Iteration 390\n",
      "Average Return: 0.32\n",
      "Average Cost: 0.12\n"
     ]
    },
    {
     "name": "stderr",
     "output_type": "stream",
     "text": [
      "Training Progress:  80%|████████  | 401/500 [6:29:33<1:34:20, 57.17s/it]"
     ]
    },
    {
     "name": "stdout",
     "output_type": "stream",
     "text": [
      "Iteration 400\n",
      "Average Return: 0.18\n",
      "Average Cost: 0.24\n"
     ]
    },
    {
     "name": "stderr",
     "output_type": "stream",
     "text": [
      "Training Progress:  82%|████████▏ | 411/500 [6:38:56<1:23:29, 56.29s/it]"
     ]
    },
    {
     "name": "stdout",
     "output_type": "stream",
     "text": [
      "Iteration 410\n",
      "Average Return: 0.16\n",
      "Average Cost: 0.15\n"
     ]
    },
    {
     "name": "stderr",
     "output_type": "stream",
     "text": [
      "Training Progress:  84%|████████▍ | 421/500 [6:48:18<1:13:39, 55.95s/it]"
     ]
    },
    {
     "name": "stdout",
     "output_type": "stream",
     "text": [
      "Iteration 420\n",
      "Average Return: 0.24\n",
      "Average Cost: 0.10\n"
     ]
    },
    {
     "name": "stderr",
     "output_type": "stream",
     "text": [
      "Training Progress:  86%|████████▌ | 431/500 [6:57:44<1:04:48, 56.35s/it]"
     ]
    },
    {
     "name": "stdout",
     "output_type": "stream",
     "text": [
      "Iteration 430\n",
      "Average Return: 0.14\n",
      "Average Cost: 0.13\n"
     ]
    },
    {
     "name": "stderr",
     "output_type": "stream",
     "text": [
      "Training Progress:  88%|████████▊ | 441/500 [7:07:08<55:25, 56.37s/it]  "
     ]
    },
    {
     "name": "stdout",
     "output_type": "stream",
     "text": [
      "Iteration 440\n",
      "Average Return: 0.10\n",
      "Average Cost: 0.01\n"
     ]
    },
    {
     "name": "stderr",
     "output_type": "stream",
     "text": [
      "Training Progress:  90%|█████████ | 451/500 [7:16:33<46:22, 56.78s/it]"
     ]
    },
    {
     "name": "stdout",
     "output_type": "stream",
     "text": [
      "Iteration 450\n",
      "Average Return: 0.19\n",
      "Average Cost: 0.24\n"
     ]
    },
    {
     "name": "stderr",
     "output_type": "stream",
     "text": [
      "Training Progress:  92%|█████████▏| 461/500 [7:26:01<36:49, 56.66s/it]"
     ]
    },
    {
     "name": "stdout",
     "output_type": "stream",
     "text": [
      "Iteration 460\n",
      "Average Return: 0.33\n",
      "Average Cost: 0.13\n"
     ]
    },
    {
     "name": "stderr",
     "output_type": "stream",
     "text": [
      "Training Progress:  94%|█████████▍| 471/500 [7:35:28<27:23, 56.68s/it]"
     ]
    },
    {
     "name": "stdout",
     "output_type": "stream",
     "text": [
      "Iteration 470\n",
      "Average Return: 0.03\n",
      "Average Cost: 0.22\n"
     ]
    },
    {
     "name": "stderr",
     "output_type": "stream",
     "text": [
      "Training Progress:  96%|█████████▌| 481/500 [7:44:56<17:58, 56.77s/it]"
     ]
    },
    {
     "name": "stdout",
     "output_type": "stream",
     "text": [
      "Iteration 480\n",
      "Average Return: 0.21\n",
      "Average Cost: 0.09\n"
     ]
    },
    {
     "name": "stderr",
     "output_type": "stream",
     "text": [
      "Training Progress:  98%|█████████▊| 491/500 [7:54:22<08:28, 56.51s/it]"
     ]
    },
    {
     "name": "stdout",
     "output_type": "stream",
     "text": [
      "Iteration 490\n",
      "Average Return: 0.12\n",
      "Average Cost: 0.16\n"
     ]
    },
    {
     "name": "stderr",
     "output_type": "stream",
     "text": [
      "Training Progress: 100%|██████████| 500/500 [8:02:51<00:00, 57.94s/it]\n"
     ]
    },
    {
     "data": {
      "text/plain": [
       "<Figure size 1200x500 with 2 Axes>"
      ],
      "image/png": "[encoded data removed]"
     },
     "metadata": {},
     "output_type": "display_data"
    }
   ],
   "execution_count": 3,
   "source": [
    "import numpy as np\n",
    "import torch\n",
    "import torch.nn as nn\n",
    "import matplotlib.pyplot as plt\n",
    "from torch.distributions import Normal\n",
    "from safety_gymnasium import make\n",
    "from torch.optim import Adam\n",
    "from tqdm import tqdm\n",
    "\n",
    "\n",
    "\n",
    "\n",
    "class Policy(nn.Module):\n",
    "    \"\"\"\n",
    "    Policy network that outputs a Gaussian distribution over actions given observations.\n",
    "\n",
    "    Args:\n",
    "        obs_dim (int): Dimension of the observation space.\n",
    "        act_dim (int): Dimension of the action space.\n",
    "    \"\"\"\n",
    "    def __init__(self, obs_dim: int, act_dim: int):\n",
    "        super().__init__()\n",
    "        self.obs_dim = obs_dim  # Store observation dimension\n",
    "\n",
    "        # Define the policy network architecture\n",
    "        self.policy_net = nn.Sequential(\n",
    "            nn.Linear(obs_dim, 64),  # Input layer mapping observations to 64 units\n",
    "            nn.Tanh(),               # Activation function\n",
    "            nn.Linear(64, 64),       # Hidden layer with 64 units\n",
    "            nn.Tanh(),               # Activation function\n",
    "            nn.Linear(64, act_dim * 2)  # Output layer producing mean and log_std for actions\n",
    "        )\n",
    "\n",
    "    def forward(self, obs: torch.Tensor) -> Normal:\n",
    "        \"\"\"\n",
    "        Forward pass through the policy network to obtain an action distribution.\n",
    "\n",
    "        Args:\n",
    "            obs (torch.Tensor): Observation tensor of shape (batch_size, obs_dim) or (obs_dim,).\n",
    "\n",
    "        Returns:\n",
    "            torch.distributions.Normal: A Normal distribution parameterized by the network output.\n",
    "        \"\"\"\n",
    "        if len(obs.shape) == 1:\n",
    "            # If input is a single observation, add a batch dimension\n",
    "            obs = obs.unsqueeze(0)\n",
    "        assert obs.shape[-1] == self.obs_dim, f\"Expected observation dimension {self.obs_dim}, got {obs.shape[-1]}\"\n",
    "\n",
    "        # Pass observations through the policy network\n",
    "        policy_params = self.policy_net(obs)\n",
    "\n",
    "        # Split the output into mean (mu) and log standard deviation (log_std)\n",
    "        mu, log_std = torch.chunk(policy_params, 2, dim=-1)\n",
    "\n",
    "        # Compute the standard deviation by exponentiating log_std\n",
    "        std = torch.exp(log_std)\n",
    "\n",
    "        # Return a Normal distribution with parameters mu and std\n",
    "        return Normal(mu, std)\n",
    "\n",
    "    def get_kl(self, obs: torch.Tensor, old_policy: nn.Module) -> torch.Tensor:\n",
    "        \"\"\"\n",
    "        Compute the KL divergence between the current policy and an old policy over a batch of observations.\n",
    "\n",
    "        Args:\n",
    "            obs (torch.Tensor): Batch of observations.\n",
    "            old_policy (nn.Module): The previous policy network.\n",
    "\n",
    "        Returns:\n",
    "            torch.Tensor: The mean KL divergence across the batch.\n",
    "        \"\"\"\n",
    "        # Get action distributions from current and old policies\n",
    "        pi = self(obs)\n",
    "        old_pi = old_policy(obs)\n",
    "\n",
    "        # Compute the KL divergence between the two distributions\n",
    "        kl = torch.distributions.kl.kl_divergence(old_pi, pi).mean()\n",
    "\n",
    "        # Return the mean KL divergence\n",
    "        return kl\n",
    "\n",
    "class ValueFunction(nn.Module):\n",
    "    \"\"\"\n",
    "    Value function network that estimates the value of a given state.\n",
    "\n",
    "    Args:\n",
    "        obs_dim (int): Dimension of the observation space.\n",
    "    \"\"\"\n",
    "    def __init__(self, obs_dim: int):\n",
    "        super().__init__()\n",
    "        self.obs_dim = obs_dim  # Store observation dimension\n",
    "\n",
    "        # Define the value network architecture\n",
    "        self.value_net = nn.Sequential(\n",
    "            nn.Linear(obs_dim, 64),  # Input layer mapping observations to 64 units\n",
    "            nn.Tanh(),               # Activation function\n",
    "            nn.Linear(64, 64),       # Hidden layer with 64 units\n",
    "            nn.Tanh(),               # Activation function\n",
    "            nn.Linear(64, 1)         # Output layer producing a single value estimate\n",
    "        )\n",
    "\n",
    "    def forward(self, obs: torch.Tensor) -> torch.Tensor:\n",
    "        \"\"\"\n",
    "        Forward pass through the value network to obtain a value estimate.\n",
    "\n",
    "        Args:\n",
    "            obs (torch.Tensor): Observation tensor of shape (batch_size, obs_dim) or (obs_dim,).\n",
    "\n",
    "        Returns:\n",
    "            torch.Tensor: Estimated value(s) for the input observation(s).\n",
    "        \"\"\"\n",
    "        if len(obs.shape) == 1:\n",
    "            # If input is a single observation, add a batch dimension\n",
    "            obs = obs.unsqueeze(0)\n",
    "\n",
    "        # Pass observations through the value network\n",
    "        value = self.value_net(obs).squeeze(-1)\n",
    "\n",
    "        # Remove unnecessary dimensions and return the value estimate\n",
    "        return value\n",
    "\n",
    "class CPO:\n",
    "    \"\"\"\n",
    "    Constrained Policy Optimization (CPO) algorithm implementation.\n",
    "\n",
    "    Args:\n",
    "        env: The environment to train on.\n",
    "        delta (float): Safety constraint limit.\n",
    "        gamma (float): Discount factor for rewards.\n",
    "        lam (float): GAE (Generalized Advantage Estimation) lambda parameter.\n",
    "        max_kl (float): Maximum KL divergence for policy updates.\n",
    "    \"\"\"\n",
    "    def __init__(self, env, delta: float = 0.01, gamma: float = 0.99, lam: float = 0.95, max_kl: float = 0.01):\n",
    "        self.render_enabled = True  # Enable rendering by default\n",
    "        # Select device (GPU if available, else CPU)\n",
    "        self.device = torch.device(\"cuda\" if torch.cuda.is_available() else \"cpu\")\n",
    "        self.env = env  # Environment to interact with\n",
    "        # Obtain observation and action dimensions from the environment\n",
    "        self.obs_dim = self.env.observation_space.shape[0]\n",
    "        self.act_dim = self.env.action_space.shape[0]\n",
    "\n",
    "        # Initialize the policy networks\n",
    "        self.policy = Policy(self.obs_dim, self.act_dim).to(self.device)      # Current policy network\n",
    "        self.old_policy = Policy(self.obs_dim, self.act_dim).to(self.device)  # Previous policy network\n",
    "        self.optimizer = Adam(self.policy.parameters(), lr=3e-4)  # Optimizer for policy updates\n",
    "\n",
    "        # Initialize value functions and their optimizers\n",
    "        self.vf = ValueFunction(self.obs_dim).to(self.device)       # Value function for rewards\n",
    "        self.cost_vf = ValueFunction(self.obs_dim).to(self.device)  # Value function for costs\n",
    "        self.vf_optimizer = Adam(self.vf.parameters(), lr=1e-3)            # Optimizer for reward value function\n",
    "        self.cost_vf_optimizer = Adam(self.cost_vf.parameters(), lr=1e-3)  # Optimizer for cost value function\n",
    "\n",
    "        # Set hyperparameters\n",
    "        self.gamma = gamma    # Discount factor\n",
    "        self.lam = lam        # GAE lambda parameter\n",
    "        self.delta = delta    # Safety constraint limit\n",
    "        self.max_kl = max_kl  # Maximum KL divergence\n",
    "\n",
    "        # Initialize lists to store learning progress\n",
    "        self.rewards_history = []  # Stores average rewards\n",
    "        self.costs_history = []    # Stores average costs\n",
    "\n",
    "    def compute_advantages(self, rewards: torch.Tensor, costs: torch.Tensor, masks: torch.Tensor, values: torch.Tensor, cost_values: torch.Tensor):\n",
    "        \"\"\"\n",
    "        Compute the generalized advantage estimates (GAE) for rewards and costs.\n",
    "\n",
    "        Args:\n",
    "            rewards (torch.Tensor): Tensor of rewards collected during rollout.\n",
    "            costs (torch.Tensor): Tensor of costs collected during rollout.\n",
    "            masks (torch.Tensor): Tensor indicating non-terminal states (1 for non-terminal, 0 for terminal).\n",
    "            values (torch.Tensor): Tensor of value function estimates for rewards.\n",
    "            cost_values (torch.Tensor): Tensor of value function estimates for costs.\n",
    "\n",
    "        Returns:\n",
    "            Tuple[torch.Tensor, torch.Tensor, torch.Tensor, torch.Tensor]:\n",
    "            Advantages, cost advantages, returns, and cost returns.\n",
    "        \"\"\"\n",
    "        # Initialize tensors for advantages and returns\n",
    "        advantages = torch.zeros_like(rewards).to(self.device)       # Advantage estimates for rewards\n",
    "        cost_advantages = torch.zeros_like(costs).to(self.device)    # Advantage estimates for costs\n",
    "        returns = torch.zeros_like(rewards).to(self.device)          # Return estimates for rewards\n",
    "        cost_returns = torch.zeros_like(costs).to(self.device)       # Return estimates for costs\n",
    "\n",
    "        last_gae = 0        # Last GAE value for rewards\n",
    "        last_cost_gae = 0   # Last GAE value for costs\n",
    "\n",
    "        # Loop backwards through the time steps\n",
    "        for t in reversed(range(len(rewards))):\n",
    "            if t == len(rewards) - 1:\n",
    "                # At the last time step, there is no next value\n",
    "                next_value = 0\n",
    "                next_cost_value = 0\n",
    "                next_nonterminal = 0\n",
    "            else:\n",
    "                # Get the next value estimates\n",
    "                next_value = values[t + 1]\n",
    "                next_cost_value = cost_values[t + 1]\n",
    "                next_nonterminal = masks[t + 1]\n",
    "\n",
    "            # Compute the temporal difference errors for rewards and costs\n",
    "            delta = rewards[t] + self.gamma * next_value * next_nonterminal - values[t]\n",
    "            cost_delta = costs[t] + self.gamma * next_cost_value * next_nonterminal - cost_values[t]\n",
    "\n",
    "            # Compute the GAE for rewards\n",
    "            advantages[t] = last_gae = delta + self.gamma * self.lam * next_nonterminal * last_gae\n",
    "            # Compute the GAE for costs\n",
    "            cost_advantages[t] = last_cost_gae = cost_delta + self.gamma * self.lam * next_nonterminal * last_cost_gae\n",
    "\n",
    "            # Compute the returns\n",
    "            returns[t] = advantages[t] + values[t]\n",
    "            cost_returns[t] = cost_advantages[t] + cost_values[t]\n",
    "\n",
    "        # Standardize the advantages\n",
    "        advantages = (advantages - advantages.mean()) / (advantages.std() + 1e-8)\n",
    "        cost_advantages = (cost_advantages - cost_advantages.mean()) / (cost_advantages.std() + 1e-8)\n",
    "\n",
    "        return advantages, cost_advantages, returns, cost_returns\n",
    "\n",
    "    def update_value_function(self, obs: torch.Tensor, returns: torch.Tensor):\n",
    "        \"\"\"\n",
    "        Update the value function using Mean Squared Error loss.\n",
    "\n",
    "        Args:\n",
    "            obs (torch.Tensor): Batch of observations.\n",
    "            returns (torch.Tensor): Computed returns for the batch.\n",
    "        \"\"\"\n",
    "        # Compute the value function loss\n",
    "        value_loss = ((self.vf(obs) - returns) ** 2).mean()\n",
    "        self.vf_optimizer.zero_grad()  # Reset gradients\n",
    "        value_loss.backward()          # Backpropagate the loss\n",
    "        self.vf_optimizer.step()       # Update the value function parameters\n",
    "\n",
    "    def update_cost_value_function(self, obs: torch.Tensor, cost_returns: torch.Tensor):\n",
    "        \"\"\"\n",
    "        Update the cost value function using Mean Squared Error loss.\n",
    "\n",
    "        Args:\n",
    "            obs (torch.Tensor): Batch of observations.\n",
    "            cost_returns (torch.Tensor): Computed cost returns for the batch.\n",
    "        \"\"\"\n",
    "        # Compute the cost value function loss\n",
    "        cost_value_loss = ((self.cost_vf(obs) - cost_returns) ** 2).mean()\n",
    "        self.cost_vf_optimizer.zero_grad()  # Reset gradients\n",
    "        cost_value_loss.backward()          # Backpropagate the loss\n",
    "        self.cost_vf_optimizer.step()       # Update the cost value function parameters\n",
    "\n",
    "    def update_policy(self, obs_batch: torch.Tensor, acts_batch: torch.Tensor, advs_batch: torch.Tensor, cost_advs_batch: torch.Tensor):\n",
    "        \"\"\"\n",
    "        Update the policy network using Constrained Policy Optimization.\n",
    "\n",
    "        Args:\n",
    "            obs_batch (torch.Tensor): Batch of observations.\n",
    "            acts_batch (torch.Tensor): Batch of actions taken.\n",
    "            advs_batch (torch.Tensor): Computed advantages.\n",
    "            cost_advs_batch (torch.Tensor): Computed cost advantages.\n",
    "        \"\"\"\n",
    "        # Get the action distributions from current and old policies\n",
    "        dist = self.policy(obs_batch)          # Current policy distribution\n",
    "        old_dist = self.old_policy(obs_batch)  # Old policy distribution\n",
    "\n",
    "        # Compute log probabilities of actions under current and old policies\n",
    "        log_probs = dist.log_prob(acts_batch).sum(-1)           # Log probs under current policy\n",
    "        old_log_probs = old_dist.log_prob(acts_batch).sum(-1).detach()  # Log probs under old policy\n",
    "\n",
    "        # Compute the probability ratio\n",
    "        ratio = torch.exp(log_probs - old_log_probs)\n",
    "        # Surrogate loss for rewards\n",
    "        surr_adv = (ratio * advs_batch).mean()\n",
    "        # Surrogate loss for costs\n",
    "        surr_cost = (ratio * cost_advs_batch).mean()\n",
    "\n",
    "        # Compute gradients of the surrogate advantage\n",
    "        grads = torch.autograd.grad(surr_adv, self.policy.parameters(), retain_graph=True)\n",
    "        grad = torch.cat([g.view(-1) for g in grads])  # Flatten the gradients\n",
    "\n",
    "        # Compute gradients of the surrogate cost\n",
    "        cost_grads = torch.autograd.grad(surr_cost, self.policy.parameters(), retain_graph=True)\n",
    "        b = torch.cat([g.view(-1) for g in cost_grads])  # Flatten the cost gradients\n",
    "\n",
    "        # Compute KL divergence between the old and new policies\n",
    "        kl = self.policy.get_kl(obs_batch, self.old_policy)\n",
    "        # Compute gradients of the KL divergence\n",
    "        kl_grads = torch.autograd.grad(kl, self.policy.parameters(), create_graph=True)\n",
    "        flat_kl_grads = torch.cat([g.view(-1) for g in kl_grads])  # Flatten the KL gradients\n",
    "\n",
    "        def Fvp(v: torch.Tensor) -> torch.Tensor:\n",
    "            \"\"\"\n",
    "            Compute the Fisher-vector product.\n",
    "\n",
    "            Args:\n",
    "                v (torch.Tensor): Vector to multiply.\n",
    "\n",
    "            Returns:\n",
    "                torch.Tensor: Resulting vector after multiplication.\n",
    "            \"\"\"\n",
    "            # Compute the product of the flat KL gradients and vector v\n",
    "            kl_v = (flat_kl_grads * v).sum()\n",
    "            # Compute the gradients of the product\n",
    "            kl_v_grads = torch.autograd.grad(kl_v, self.policy.parameters(), retain_graph=True)\n",
    "            kl_v_grads = torch.cat([g.contiguous().view(-1) for g in kl_v_grads])\n",
    "            # Add a damping term for numerical stability\n",
    "            return kl_v_grads + 0.01 * v\n",
    "\n",
    "        def conjugate_grad(Ax, b: torch.Tensor, nsteps: int, residual_tol: float = 1e-10) -> torch.Tensor:\n",
    "            \"\"\"\n",
    "            Conjugate Gradient method to solve Ax = b.\n",
    "\n",
    "            Args:\n",
    "                Ax: Function that computes the matrix-vector product Ax.\n",
    "                b (torch.Tensor): Right-hand side vector.\n",
    "                nsteps (int): Maximum number of iterations.\n",
    "                residual_tol (float): Tolerance for convergence.\n",
    "\n",
    "            Returns:\n",
    "                torch.Tensor: Solution vector x.\n",
    "            \"\"\"\n",
    "            x = torch.zeros_like(b)   # Initial solution x = 0\n",
    "            r = b.clone()             # Residual r = b - Ax\n",
    "            p = r.clone()             # Search direction\n",
    "            rdotr = torch.dot(r, r)   # Compute the dot product of residual\n",
    "\n",
    "            for i in range(nsteps):\n",
    "                Ap = Ax(p)  # Compute A*p\n",
    "                alpha = rdotr / (torch.dot(p, Ap) + 1e-8)  # Step size\n",
    "                x += alpha * p  # Update estimate of solution\n",
    "                r -= alpha * Ap  # Update residual\n",
    "                new_rdotr = torch.dot(r, r)  # Compute new residual norm\n",
    "                if new_rdotr < residual_tol:\n",
    "                    break  # Convergence achieved\n",
    "                beta = new_rdotr / rdotr  # Compute scaling factor\n",
    "                p = r + beta * p  # Update search direction\n",
    "                rdotr = new_rdotr\n",
    "            return x\n",
    "\n",
    "        # Define the Hessian-vector product function\n",
    "        Hx = lambda v: Fvp(v)\n",
    "        # Solve for the step direction using conjugate gradient\n",
    "        x = conjugate_grad(Hx, grad, nsteps=10)\n",
    "\n",
    "        # Compute the constraint value q\n",
    "        q = b.dot(x) - self.delta\n",
    "        if q < 0:\n",
    "            # If constraint is satisfied, compute scaling factor lambda\n",
    "            lam = torch.sqrt(2 * self.max_kl / (x.dot(Hx(x)) + 1e-8))\n",
    "            x = lam * x  # Scale the step direction\n",
    "        else:\n",
    "            # If constraint is violated, adjust step direction\n",
    "            nu = q / (x.dot(Hx(x)) + 1e-8)\n",
    "            x = x - nu * x  # Adjust the step direction\n",
    "\n",
    "        # Store old policy parameters\n",
    "        old_params = torch.cat([p.data.view(-1) for p in self.policy.parameters()])\n",
    "        step_size = 1.0  # Initial step size\n",
    "        expected_improve = grad.dot(x)  # Expected improvement in surrogate loss\n",
    "\n",
    "        # Perform backtracking line search\n",
    "        for _ in range(10):\n",
    "            # Compute new parameters\n",
    "            new_params = old_params + step_size * x\n",
    "            # Set new parameters to the policy network\n",
    "            self.set_params(new_params)\n",
    "            # Compute new KL divergence\n",
    "            kl = self.policy.get_kl(obs_batch, self.old_policy)\n",
    "            # Compute new surrogate advantage\n",
    "            surr_adv_new = (torch.exp(self.policy(obs_batch).log_prob(acts_batch).sum(-1) - old_log_probs) * advs_batch).mean()\n",
    "            improve = surr_adv_new - surr_adv  # Improvement in surrogate advantage\n",
    "            if kl <= self.max_kl and improve > 0:\n",
    "                break  # Accept the step if constraints are satisfied\n",
    "            step_size *= 0.5  # Reduce step size\n",
    "        else:\n",
    "            # If no acceptable step found, revert to old parameters\n",
    "            self.set_params(old_params)\n",
    "\n",
    "        # Update the old policy with the new policy parameters\n",
    "        self.old_policy.load_state_dict(self.policy.state_dict())\n",
    "\n",
    "    def set_params(self, params: torch.Tensor):\n",
    "        \"\"\"\n",
    "        Set the parameters of the policy network from a flat parameter vector.\n",
    "\n",
    "        Args:\n",
    "            params (torch.Tensor): Flat tensor containing all parameters.\n",
    "        \"\"\"\n",
    "        idx = 0  # Starting index\n",
    "        for p in self.policy.parameters():\n",
    "            size = p.numel()  # Number of elements in parameter tensor\n",
    "            # Copy data from flat parameter vector to parameter tensor\n",
    "            p.data.copy_(params[idx:idx + size].view(p.shape))\n",
    "            idx += size  # Move to the next set of parameters\n",
    "\n",
    "    def train(self, n_iterations: int = 500, batch_size: int = 5000):\n",
    "        \"\"\"\n",
    "        Train the policy using collected data.\n",
    "\n",
    "        Args:\n",
    "            n_iterations (int): Number of training iterations.\n",
    "            batch_size (int): Number of samples per batch.\n",
    "        \"\"\"\n",
    "        for i in tqdm(range(n_iterations), desc=\"Training Progress\"):\n",
    "            # Initialize buffers to collect data\n",
    "            obs_buf, act_buf, rew_buf, cost_buf, done_buf = [], [], [], [], []\n",
    "            next_obs_buf = []\n",
    "\n",
    "            obs, _ = self.env.reset()  # Reset the environment and get initial observation\n",
    "            done = False            # Initialize done flag\n",
    "\n",
    "            # Collect data until the batch size is reached\n",
    "            while len(obs_buf) < batch_size:\n",
    "                # Convert observation to numpy array\n",
    "                obs = np.asarray(obs, dtype=np.float32)\n",
    "                # Flatten the observation if necessary\n",
    "                if obs.ndim > 1:\n",
    "                    obs = obs.flatten()\n",
    "                elif isinstance(obs[0], (list, np.ndarray)):\n",
    "                    obs = np.concatenate([np.asarray(o, dtype=np.float32).flatten() for o in obs])\n",
    "\n",
    "                # Convert observation to tensor and move to device\n",
    "                obs_tensor = torch.FloatTensor(obs).to(self.device)\n",
    "                with torch.no_grad():\n",
    "                    # Get action distribution from the policy\n",
    "                    act_dist = self.policy(obs_tensor)\n",
    "                    # Sample action from the distribution\n",
    "                    act = act_dist.sample().cpu().numpy()\n",
    "                    act = np.clip(act, self.env.action_space.low, self.env.action_space.high)\n",
    "                    # Squeeze the action to remove the batch dimension\n",
    "                    act = np.squeeze(act, axis=0)\n",
    "\n",
    "                # Step the environment\n",
    "                # print(self.env.step(act))\n",
    "                next_obs, rew, cost, terminated, truncated, info = self.env.step(act)\n",
    "                done = bool(terminated or truncated)  # Combine terminated and truncated flags\n",
    "\n",
    "                # Get cost from info dictionary\n",
    "                cost = info.get('cost_sum', 0)\n",
    "\n",
    "                # Append data to buffers\n",
    "                obs_buf.append(obs)\n",
    "                act_buf.append(act)\n",
    "                rew_buf.append(rew)\n",
    "                cost_buf.append(cost)\n",
    "                done_buf.append(done)\n",
    "                next_obs_buf.append(next_obs)\n",
    "\n",
    "                if done:\n",
    "                    obs, _ = self.env.reset()  # Reset environment if done\n",
    "                else:\n",
    "                    obs = next_obs  # Move to the next observation\n",
    "\n",
    "            # Convert buffers to tensors and move to device\n",
    "            obs_tensor = torch.FloatTensor(np.array(obs_buf, dtype=np.float32)).to(self.device)\n",
    "            act_tensor = torch.FloatTensor(np.array(act_buf, dtype=np.float32)).to(self.device)\n",
    "            rew_tensor = torch.FloatTensor(np.array(rew_buf, dtype=np.float32)).to(self.device)\n",
    "            cost_tensor = torch.FloatTensor(np.array(cost_buf, dtype=np.float32)).to(self.device)\n",
    "            next_obs_tensor = torch.FloatTensor(np.array(next_obs_buf, dtype=np.float32)).to(self.device)\n",
    "            done_tensor = torch.FloatTensor(np.array(done_buf, dtype=np.float32)).to(self.device)\n",
    "\n",
    "            with torch.no_grad():\n",
    "                # Get value estimates from the value functions\n",
    "                values = self.vf(obs_tensor)\n",
    "                cost_values = self.cost_vf(obs_tensor)\n",
    "                next_values = self.vf(next_obs_tensor)\n",
    "                next_cost_values = self.cost_vf(next_obs_tensor)\n",
    "\n",
    "            # Create masks for non-terminal states\n",
    "            masks = 1 - done_tensor\n",
    "            # Compute advantages and returns\n",
    "            advantages, cost_advantages, returns, cost_returns = self.compute_advantages(\n",
    "                rew_tensor, cost_tensor, masks,\n",
    "                values, cost_values\n",
    "            )\n",
    "\n",
    "            # Update the value functions\n",
    "            self.update_value_function(obs_tensor, returns)\n",
    "            self.update_cost_value_function(obs_tensor, cost_returns)\n",
    "\n",
    "            # Update the policy network\n",
    "            self.update_policy(obs_tensor, act_tensor, advantages, cost_advantages)\n",
    "\n",
    "            # Compute average return and cost for the batch\n",
    "            avg_return = torch.mean(returns).item()\n",
    "            avg_cost = torch.mean(cost_tensor).item()\n",
    "            # Append to history\n",
    "            self.rewards_history.append(avg_return)\n",
    "            self.costs_history.append(avg_cost)\n",
    "\n",
    "            if i % 10 == 0:\n",
    "                # Print progress every 10 iterations\n",
    "                print(f\"Iteration {i}\")\n",
    "                print(f\"Average Return: {avg_return:.2f}\")\n",
    "                print(f\"Average Cost: {avg_cost:.2f}\")\n",
    "\n",
    "        # Plot learning curves after training\n",
    "        self.plot_learning_curves()\n",
    "\n",
    "    def plot_learning_curves(self):\n",
    "        \"\"\"\n",
    "        Plot the learning curves for average returns and average costs over iterations.\n",
    "        \"\"\"\n",
    "        plt.figure(figsize=(12, 5))\n",
    "\n",
    "        # Plot average return\n",
    "        plt.subplot(1, 2, 1)\n",
    "        plt.plot(self.rewards_history, label='Average Return')\n",
    "        plt.xlabel('Iteration')\n",
    "        plt.ylabel('Average Return')\n",
    "        plt.title('Learning Curve - Average Return')\n",
    "        plt.legend()\n",
    "\n",
    "        # Plot average cost\n",
    "        plt.subplot(1, 2, 2)\n",
    "        plt.plot(self.costs_history, label='Average Cost', color='r')\n",
    "        plt.xlabel('Iteration')\n",
    "        plt.ylabel('Average Cost')\n",
    "        plt.title('Learning Curve - Average Cost')\n",
    "        plt.legend()\n",
    "\n",
    "        plt.tight_layout()\n",
    "        plt.show()\n",
    "\n",
    "if __name__ == \"__main__\":\n",
    "    # Initialize the environment with a fixed random seed\n",
    "    env = make(\"SafetyCarGoal2-v0\", render_mode='human')  # Create the environment\n",
    "\n",
    "    seed = 42  # Set a random seed\n",
    "    env.reset(seed=seed)  # Reset the environment with the seed\n",
    "    np.random.seed(seed)  # Set numpy random seed\n",
    "    cpo = CPO(env)        # Initialize the CPO algorithm\n",
    "    cpo.train()           # Start training\n"
   ],
   "id": "62c1505612973496"
  },
  {
   "metadata": {},
   "cell_type": "code",
   "outputs": [],
   "source": "",
   "id": "813d93060772d529",
   "execution_count": null
  }
 ],
 "metadata": {
  "kernelspec": {
   "display_name": "Python 3",
   "language": "python",
   "name": "python3"
  },
  "language_info": {
   "codemirror_mode": {
    "name": "ipython",
    "version": 2
   },
   "file_extension": ".py",
   "mimetype": "text/x-python",
   "name": "python",
   "nbconvert_exporter": "python",
   "pygments_lexer": "ipython2",
   "version": "2.7.6"
  }
 },
 "nbformat": 4,
 "nbformat_minor": 5
}
